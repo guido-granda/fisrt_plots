{
 "cells": [
  {
   "cell_type": "code",
   "execution_count": 8,
   "metadata": {
    "collapsed": false
   },
   "outputs": [],
   "source": [
    "from __future__ import print_function\n",
    "import numpy as np\n",
    "import h5py\n",
    "\n",
    "with h5py.File('Gonzalez15.VELOCIraptor/iz200/ivol10/galaxies.hdf5','r') as hf:\n",
    "    data = hf.get('Output001')\n",
    "    np_data = np.array(data)\n",
    "    #print('Shape of the array Output001: \\n', np_data.shape)\n",
    "    #print('List of items of the output: \\n',data.items())\n",
    "    times =hf.get(\"Output_Times\")\n",
    "    xgal            =np.array(data.get('xgal'))\n",
    "    ygal            =np.array(data.get('ygal'))\n",
    "    zgal            =np.array(data.get('zgal'))\n",
    "    mcol_atom       =np.array(data.get('mcold_atom'))\n",
    "    mcold_atom_bulge=np.array(data.get('mcold_atom_bulge'))\n",
    "    objectflag      =np.array(data.get('is_central'))\n",
    "    \n",
    "    \n",
    "    header='line 1: Xgal(Mpc/h); line 2: Ygal(Mpc/h); line 3: Zgal(Mpc/h), line 4: mcold_atom(Msun/h) (mass of HI in the disk), line 5: mcold_atom bulge(Msun/h)(mass of HI in the bulge), line 6: object flag (1: it is a galaxy, 0: it is a satellite) '\n",
    "    \n",
    "    np.savetxt('HI_outs.txt',(xgal[0:100],ygal[0:100],zgal[0:100],mcol_atom[0:100],mcold_atom_bulge[0:100],objectflag[0:100]))\n",
    "    #X=np.append([xgal,ygal,zgal,mcol_atom,mcold_atom_bulge,axis=1)\n",
    "\n",
    "    # Checking Vdisk data and Vhalo data\n",
    "    #n_data1=vdisk.shape[0]# they are both the same number\n",
    "    #n_data2=vhalo.shape[0]# check above\n",
    "    "
   ]
  },
  {
   "cell_type": "code",
   "execution_count": 6,
   "metadata": {
    "collapsed": false
   },
   "outputs": [
    {
     "data": {
      "text/plain": [
       "array([-1.49234211, -1.        , -1.        , ..., -1.        ,\n",
       "       -1.        , -1.        ], dtype=float32)"
      ]
     },
     "execution_count": 6,
     "metadata": {},
     "output_type": "execute_result"
    }
   ],
   "source": [
    "xgal"
   ]
  },
  {
   "cell_type": "code",
   "execution_count": null,
   "metadata": {
    "collapsed": true
   },
   "outputs": [],
   "source": []
  }
 ],
 "metadata": {
  "kernelspec": {
   "display_name": "Python 2",
   "language": "python",
   "name": "python2"
  },
  "language_info": {
   "codemirror_mode": {
    "name": "ipython",
    "version": 2
   },
   "file_extension": ".py",
   "mimetype": "text/x-python",
   "name": "python",
   "nbconvert_exporter": "python",
   "pygments_lexer": "ipython2",
   "version": "2.7.12"
  }
 },
 "nbformat": 4,
 "nbformat_minor": 0
}
