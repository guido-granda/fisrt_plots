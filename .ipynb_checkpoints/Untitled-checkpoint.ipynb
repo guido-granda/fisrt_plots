{
 "cells": [
  {
   "cell_type": "code",
   "execution_count": 11,
   "metadata": {
    "collapsed": false
   },
   "outputs": [
    {
     "name": "stdout",
     "output_type": "stream",
     "text": [
      "The mcold goes from 0.00000 to 46693773312.00000\n"
     ]
    },
    {
     "name": "stderr",
     "output_type": "stream",
     "text": [
      "/home/guido/anaconda2/lib/python2.7/site-packages/ipykernel/__main__.py:86: RuntimeWarning: invalid value encountered in log\n"
     ]
    },
    {
     "name": "stdout",
     "output_type": "stream",
     "text": [
      "The mcold goes from 0.00000 to 50184486912.00000\n",
      "The mcold goes from 0.00000 to 37769519104.00000\n",
      "The mcold goes from 0.00000 to 25495752704.00000\n",
      "The mcold goes from 0.00000 to 22693281792.00000\n",
      "The mcold goes from 0.00000 to 14709555200.00000\n",
      "The mcold goes from 0.00000 to 6266863616.00000\n",
      "The mcold goes from 0.00000 to 2037785600.00000\n"
     ]
    }
   ],
   "source": [
    "from __future__ import print_function\n",
    "import numpy as np\n",
    "import h5py\n",
    "import matplotlib.pyplot as plt\n",
    "import matplotlib\n",
    "matplotlib.use('Agg')\n",
    "\n",
    "\n",
    "#redshift list\n",
    "redshifts=['iz200','iz174','iz156','iz142','iz131','iz113','iz99','iz78']\n",
    "ivols=['ivol0','ivol10']\n",
    "direc='./Gonzalez15.VELOCIraptor/'\n",
    "\n",
    "# set font properties\n",
    "params = {      'axes.labelsize': 14,\n",
    "                        'axes.labelweight': 'normal',\n",
    "                        'axes.titlesize':  16, # Plot Title size\n",
    "                        'font.size':   14,\n",
    "                        'legend.fontsize': 14,\n",
    "                        'xtick.labelsize': 14, # Ticklabels\n",
    "                        'ytick.labelsize': 14,\n",
    "                        'font.family' : 'sans-serif',\n",
    "                        'text.usetex': True} # True for Latex font\n",
    "                  \n",
    "plt.rcParams.update(params)\n",
    "\n",
    "\n",
    "#some parameters\n",
    "volume_tree=144703.125 #(Mpc/h)^3\n",
    "box_size= 210.0 # Mpc/h    \n",
    "\n",
    "\n",
    "\n",
    "\n",
    "for i in range(0,len(redshifts)):\n",
    "        mcold_t=np.empty(1)\n",
    "        title=r'Mcold histogram Mini-Surfs-Velociraptor, '+redshifts[i]\n",
    "        for j in range(0,len(ivols)):\n",
    "        # set figure\n",
    "            fileformat = 'png'\n",
    "            dpi = 300\n",
    "            fig,axs = plt.subplots()\n",
    "            direc=direc+redshifts[i]+'/'+ivols[j]+'/galaxies.hdf5'\n",
    "            ##Reading the data from hdf5 file ####\n",
    "            with h5py.File(direc,'r') as hf:\n",
    "                data = hf.get('Output001')\n",
    "               #  np_data = np.array(data)\n",
    "               #  print('Shape of the array Output001: \\n', np_data.shape)\n",
    "               #  print('List of items of the output: \\n',data.items())\n",
    "                times =hf.get(\"Output_Times\")\n",
    "               # vdisk=np.array(data.get('vdisk'))\n",
    "               # vhalo=np.array(data.get('vhalo'))\n",
    "                mcold_atom=np.array(data.get('mcold_atom'))\n",
    "     #volume 144703.125\n",
    "    # Checking Vdisk data and Vhalo data\n",
    "     #   n_data1=vdisk.shape[0]# they are both the same number\n",
    "     #   n_data2=vhalo.shape[0]# check above\n",
    "                mcold_t=np.append(mcold_t,mcold_atom)\n",
    "            direc='./Gonzalez15.VELOCIraptor/'\n",
    "        \n",
    "        mcold_t=mcold_t[1:]\n",
    "        mcold_min=np.amin(mcold_t)\n",
    "        mcold_max=np.amax(mcold_t)\n",
    "        print(u'The mcold goes from %3.5f to %3.5f' %(mcold_min,mcold_max))\n",
    " # finding range of values\n",
    "        n_data1=np.shape(mcold_t)[0]\n",
    "\n",
    "\tn_histogram=int(round(np.sqrt(n_data1)))#/4.0\n",
    "\tleft=np.log10(mcold_min+1.0)\n",
    "\tright=np.log10(mcold_max)\n",
    "\n",
    "\tdist_bin   =(right-left)/(n_histogram+1)\n",
    "\tl_edge     =left-dist_bin/2.0\n",
    "\tr_edge     =right+dist_bin/2.0\n",
    "\tbin_edges  =np.arange(l_edge,r_edge+dist_bin,dist_bin)\n",
    "\tbin_centers=bin_edges+dist_bin\n",
    "\tbin_centers=bin_centers[1:]\n",
    "        binwidths  =np.diff(10**bin_edges)\n",
    "\t################# histogram Vdisk############################3\n",
    "\thist1, bin_edges1= np.histogram(np.log10(mcold_t+1.0), bin_edges)\n",
    "\tidx1=(hist1 >0)\n",
    "\t# over the volume\n",
    "\thist1=hist1/volume_tree\n",
    "\t#error1=np.sqrt(hist1)/volume_tree\n",
    "\t# correct for log(vmax)\n",
    "\thist1=np.log10(hist1[idx1]/np.diff(np.log(bin_edges))[idx1])\n",
    "        p1_1 = axs.plot(bin_centers[idx1],hist1, label='Mcold', marker='.', linestyle='-', markersize=4, c='k')\t\t  \n",
    "        #handles, labels = axs.get_legend_handles_labels()\n",
    "        #axs.legend(handles, labels, numpoints=1, loc='upper right') #, prop={'size': 'x-small'})\n",
    "        #axs.set_ylim(1E-1,1E1)\n",
    "        axs.set_xlabel(r'$log(M_{cold}[M_\\odot/h])$)')\n",
    "        axs.set_ylabel(r'$log(dn/dln M_{cold})[h^{3}Mpc^{-3}]$')\n",
    "        axs.axvline(x=7,ymin=0,ymax=1,color='k',linestyle='--')\n",
    "        axs.set_title(title)\n",
    "        plt.savefig(title+'.png',dpi=dpi,format=fileformat)\n",
    "        \n",
    "\n",
    "   \n",
    "\n"
   ]
  },
  {
   "cell_type": "code",
   "execution_count": 7,
   "metadata": {
    "collapsed": false
   },
   "outputs": [
    {
     "data": {
      "text/plain": [
       "(132,)"
      ]
     },
     "execution_count": 7,
     "metadata": {},
     "output_type": "execute_result"
    }
   ],
   "source": [
    "np.shape(hist1[idx1])"
   ]
  },
  {
   "cell_type": "code",
   "execution_count": 10,
   "metadata": {
    "collapsed": false
   },
   "outputs": [
    {
     "name": "stderr",
     "output_type": "stream",
     "text": [
      "/home/guido/anaconda2/lib/python2.7/site-packages/ipykernel/__main__.py:1: VisibleDeprecationWarning: boolean index did not match indexed array along dimension 0; dimension is 7 but corresponding boolean dimension is 20\n",
      "  if __name__ == '__main__':\n"
     ]
    },
    {
     "ename": "IndexError",
     "evalue": "index 14 is out of bounds for axis 1 with size 7",
     "output_type": "error",
     "traceback": [
      "\u001b[1;31m---------------------------------------------------------------------------\u001b[0m",
      "\u001b[1;31mIndexError\u001b[0m                                Traceback (most recent call last)",
      "\u001b[1;32m<ipython-input-10-d3fc9065cdb6>\u001b[0m in \u001b[0;36m<module>\u001b[1;34m()\u001b[0m\n\u001b[1;32m----> 1\u001b[1;33m \u001b[0mnp\u001b[0m\u001b[1;33m.\u001b[0m\u001b[0mshape\u001b[0m\u001b[1;33m(\u001b[0m\u001b[0mhist1\u001b[0m\u001b[1;33m[\u001b[0m\u001b[0midx1\u001b[0m\u001b[1;33m]\u001b[0m\u001b[1;33m)\u001b[0m\u001b[1;33m\u001b[0m\u001b[0m\n\u001b[0m",
      "\u001b[1;31mIndexError\u001b[0m: index 14 is out of bounds for axis 1 with size 7"
     ]
    }
   ],
   "source": [
    "np.shape(hist1[idx1])"
   ]
  },
  {
   "cell_type": "code",
   "execution_count": null,
   "metadata": {
    "collapsed": true
   },
   "outputs": [],
   "source": []
  }
 ],
 "metadata": {
  "kernelspec": {
   "display_name": "Python 2",
   "language": "python",
   "name": "python2"
  },
  "language_info": {
   "codemirror_mode": {
    "name": "ipython",
    "version": 2
   },
   "file_extension": ".py",
   "mimetype": "text/x-python",
   "name": "python",
   "nbconvert_exporter": "python",
   "pygments_lexer": "ipython2",
   "version": "2.7.11"
  }
 },
 "nbformat": 4,
 "nbformat_minor": 0
}
