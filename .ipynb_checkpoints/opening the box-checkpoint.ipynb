{
 "cells": [
  {
   "cell_type": "code",
   "execution_count": null,
   "metadata": {
    "collapsed": false,
    "scrolled": false
   },
   "outputs": [],
   "source": [
    "from __future__ import print_function\n",
    "import numpy as np\n",
    "import h5py\n",
    "import pandas as pd\n",
    "import matplotlib.pyplot as plt\n",
    "\n",
    "with h5py.File('Gonzalez15.VELOCIraptor/iz200/ivol10/galaxies.hdf5','r') as hf:\n",
    "    data = hf.get('Output001')\n",
    "    np_data = np.array(data)\n",
    "    print('Shape of the array Output001: \\n', np_data.shape)\n",
    "    #print('List of items of the output: \\n',data.items())\n",
    "    times =hf.get(\"Output_Times\")\n",
    "    vdisk=np.array(data.get('vdisk'))\n",
    "    vhalo=np.array(data.get('vhalo'))\n",
    "    mcold_atom_bulge=np.array(data.get('mcold_atom_bulge'))\n",
    "    mcold_mol_bulge =np.array(data.get('mcold_mol_bulge'))\n",
    "    mstars_bulge    =np.array(data.get('mstars_bulge'))\n",
    "    mstars_disk     =np.array(data.get('mstars_disk'))\n",
    "    mchalo          =np.array(data.get('mchalo'))\n",
    "    mhalo           =np.array(data.get('mhalo'))\n",
    "    mhhalo          =np.array(data.get('mhhalo'))\n",
    "    index           =np.array(data.get('index'))\n",
    "    ihalo           =np.array(data.get('ihhalo'))\n",
    "\n",
    "    # Checking Vdisk data and Vhalo data\n",
    "    n_data1=vdisk.shape[0]# they are both the same number\n",
    "    n_data2=vhalo.shape[0]# check above\n",
    "    "
   ]
  },
  {
   "cell_type": "code",
   "execution_count": null,
   "metadata": {
    "collapsed": false
   },
   "outputs": [],
   "source": [
    "index"
   ]
  },
  {
   "cell_type": "code",
   "execution_count": null,
   "metadata": {
    "collapsed": false
   },
   "outputs": [],
   "source": [
    "#np.mean(index)\n",
    "np.amax(index)\n",
    "#np.amin(index)"
   ]
  },
  {
   "cell_type": "code",
   "execution_count": null,
   "metadata": {
    "collapsed": false
   },
   "outputs": [],
   "source": [
    "ihalo"
   ]
  },
  {
   "cell_type": "code",
   "execution_count": null,
   "metadata": {
    "collapsed": false
   },
   "outputs": [],
   "source": [
    "plt.hist(index,25)"
   ]
  },
  {
   "cell_type": "code",
   "execution_count": null,
   "metadata": {
    "collapsed": false
   },
   "outputs": [],
   "source": [
    "plt.show()"
   ]
  },
  {
   "cell_type": "code",
   "execution_count": null,
   "metadata": {
    "collapsed": true
   },
   "outputs": [],
   "source": []
  }
 ],
 "metadata": {
  "kernelspec": {
   "display_name": "Python 2",
   "language": "python",
   "name": "python2"
  },
  "language_info": {
   "codemirror_mode": {
    "name": "ipython",
    "version": 2
   },
   "file_extension": ".py",
   "mimetype": "text/x-python",
   "name": "python",
   "nbconvert_exporter": "python",
   "pygments_lexer": "ipython2",
   "version": "2.7.12"
  }
 },
 "nbformat": 4,
 "nbformat_minor": 0
}
