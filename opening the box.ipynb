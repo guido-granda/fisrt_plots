{
 "cells": [
  {
   "cell_type": "code",
   "execution_count": 1,
   "metadata": {
    "collapsed": false,
    "scrolled": false
   },
   "outputs": [
    {
     "name": "stdout",
     "output_type": "stream",
     "text": [
      "Shape of the array Output001: \n",
      " (74,)\n"
     ]
    }
   ],
   "source": [
    "from __future__ import print_function\n",
    "import numpy as np\n",
    "import h5py\n",
    "import pandas as pd\n",
    "import matplotlib.pyplot as plt\n",
    "\n",
    "with h5py.File('Gonzalez15.VELOCIraptor/iz200/ivol10/galaxies.hdf5','r') as hf:\n",
    "    data = hf.get('Output001')\n",
    "    np_data = np.array(data)\n",
    "    print('Shape of the array Output001: \\n', np_data.shape)\n",
    "    #print('List of items of the output: \\n',data.items())\n",
    "    times =hf.get(\"Output_Times\")\n",
    "    vdisk=np.array(data.get('vdisk'))\n",
    "    vhalo=np.array(data.get('vhalo'))\n",
    "    mcold_atom_bulge=np.array(data.get('mcold_atom_bulge'))\n",
    "    mcold_mol_bulge =np.array(data.get('mcold_mol_bulge'))\n",
    "    mstars_bulge    =np.array(data.get('mstars_bulge'))\n",
    "    mstars_disk     =np.array(data.get('mstars_disk'))\n",
    "    mchalo          =np.array(data.get('mchalo'))\n",
    "    mhalo           =np.array(data.get('mhalo'))\n",
    "    mhhalo          =np.array(data.get('mhhalo'))\n",
    "    index           =np.array(data.get('index'))\n",
    "    ihalo           =np.array(data.get('ihhalo'))\n",
    "\n",
    "    # Checking Vdisk data and Vhalo data\n",
    "    n_data1=vdisk.shape[0]# they are both the same number\n",
    "    n_data2=vhalo.shape[0]# check above\n",
    "    "
   ]
  },
  {
   "cell_type": "code",
   "execution_count": 2,
   "metadata": {
    "collapsed": false
   },
   "outputs": [
    {
     "data": {
      "text/plain": [
       "array([ 1,  7,  4, ...,  8, 11, 51], dtype=int32)"
      ]
     },
     "execution_count": 2,
     "metadata": {},
     "output_type": "execute_result"
    }
   ],
   "source": [
    "index"
   ]
  },
  {
   "cell_type": "code",
   "execution_count": 3,
   "metadata": {
    "collapsed": false
   },
   "outputs": [
    {
     "data": {
      "text/plain": [
       "25264"
      ]
     },
     "execution_count": 3,
     "metadata": {},
     "output_type": "execute_result"
    }
   ],
   "source": [
    "#np.mean(index)\n",
    "np.amax(index)\n",
    "#np.amin(index)"
   ]
  },
  {
   "cell_type": "code",
   "execution_count": 4,
   "metadata": {
    "collapsed": false
   },
   "outputs": [
    {
     "data": {
      "text/plain": [
       "array([1, 1, 1, ..., 1, 1, 1], dtype=int32)"
      ]
     },
     "execution_count": 4,
     "metadata": {},
     "output_type": "execute_result"
    }
   ],
   "source": [
    "ihalo"
   ]
  },
  {
   "cell_type": "code",
   "execution_count": 5,
   "metadata": {
    "collapsed": false
   },
   "outputs": [
    {
     "data": {
      "text/plain": [
       "(array([ 17043.,   2033.,   1150.,    755.,    581.,    450.,    304.,\n",
       "           267.,    265.,    210.,    180.,    167.,    124.,    125.,\n",
       "           104.,     88.,     66.,     61.,     43.,     39.,     47.,\n",
       "            44.,     27.,     42.,     33.]),\n",
       " array([  1.00000000e+00,   1.01152000e+03,   2.02204000e+03,\n",
       "          3.03256000e+03,   4.04308000e+03,   5.05360000e+03,\n",
       "          6.06412000e+03,   7.07464000e+03,   8.08516000e+03,\n",
       "          9.09568000e+03,   1.01062000e+04,   1.11167200e+04,\n",
       "          1.21272400e+04,   1.31377600e+04,   1.41482800e+04,\n",
       "          1.51588000e+04,   1.61693200e+04,   1.71798400e+04,\n",
       "          1.81903600e+04,   1.92008800e+04,   2.02114000e+04,\n",
       "          2.12219200e+04,   2.22324400e+04,   2.32429600e+04,\n",
       "          2.42534800e+04,   2.52640000e+04]),\n",
       " <a list of 25 Patch objects>)"
      ]
     },
     "execution_count": 5,
     "metadata": {},
     "output_type": "execute_result"
    }
   ],
   "source": [
    "plt.hist(index,25)"
   ]
  },
  {
   "cell_type": "code",
   "execution_count": 6,
   "metadata": {
    "collapsed": false
   },
   "outputs": [],
   "source": [
    "plt.show()"
   ]
  },
  {
   "cell_type": "code",
   "execution_count": null,
   "metadata": {
    "collapsed": true
   },
   "outputs": [],
   "source": []
  }
 ],
 "metadata": {
  "kernelspec": {
   "display_name": "Python 2",
   "language": "python",
   "name": "python2"
  },
  "language_info": {
   "codemirror_mode": {
    "name": "ipython",
    "version": 2
   },
   "file_extension": ".py",
   "mimetype": "text/x-python",
   "name": "python",
   "nbconvert_exporter": "python",
   "pygments_lexer": "ipython2",
   "version": "2.7.12"
  }
 },
 "nbformat": 4,
 "nbformat_minor": 0
}
