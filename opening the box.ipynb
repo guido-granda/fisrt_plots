{
 "cells": [
  {
   "cell_type": "code",
   "execution_count": 1,
   "metadata": {
    "collapsed": false,
    "scrolled": false
   },
   "outputs": [
    {
     "name": "stdout",
     "output_type": "stream",
     "text": [
      "Shape of the array Output001: \n",
      " (74,)\n",
      "List of items of the output: \n",
      " [(u'Bands', <HDF5 group \"/Output001/Bands\" (192 members)>), (u'Lines', <HDF5 group \"/Output001/Lines\" (16 members)>), (u'M_SMBH', <HDF5 dataset \"M_SMBH\": shape (24248,), type \"<f4\">), (u'Molecular Lines', <HDF5 group \"/Output001/Molecular Lines\" (0 members)>), (u'ParticleID', <HDF5 dataset \"ParticleID\": shape (24248,), type \"<i8\">), (u'SMBH_Mdot_hh', <HDF5 dataset \"SMBH_Mdot_hh\": shape (24248,), type \"<f4\">), (u'SMBH_Mdot_stb', <HDF5 dataset \"SMBH_Mdot_stb\": shape (24248,), type \"<f4\">), (u'SMBH_Spin', <HDF5 dataset \"SMBH_Spin\": shape (24248,), type \"<f4\">), (u'SMBH_tacc_stb', <HDF5 dataset \"SMBH_tacc_stb\": shape (24248,), type \"<f4\">), (u'SubhaloID', <HDF5 dataset \"SubhaloID\": shape (24248,), type \"<i8\">), (u'SubhaloIndex', <HDF5 dataset \"SubhaloIndex\": shape (24248,), type \"<i4\">), (u'SubhaloSnapNum', <HDF5 dataset \"SubhaloSnapNum\": shape (24248,), type \"<i4\">), (u'Trees', <HDF5 group \"/Output001/Trees\" (7 members)>), (u'achalo', <HDF5 dataset \"achalo\": shape (24248,), type \"<f4\">), (u'aform', <HDF5 dataset \"aform\": shape (24248,), type \"<f4\">), (u'angmom_disk', <HDF5 dataset \"angmom_disk\": shape (24248,), type \"<f4\">), (u'angmom_dm', <HDF5 dataset \"angmom_dm\": shape (24248,), type \"<f4\">), (u'burst_mode', <HDF5 dataset \"burst_mode\": shape (24248,), type \"<i4\">), (u'cold_metal', <HDF5 dataset \"cold_metal\": shape (24248,), type \"<f4\">), (u'halo_r_virial', <HDF5 dataset \"halo_r_virial\": shape (24248,), type \"<f4\">), (u'hierarchy_level', <HDF5 dataset \"hierarchy_level\": shape (24248,), type \"<i4\">), (u'hot_metal', <HDF5 dataset \"hot_metal\": shape (24248,), type \"<f4\">), (u'ident_next_output', <HDF5 dataset \"ident_next_output\": shape (24248,), type \"<i4\">), (u'ihalof', <HDF5 dataset \"ihalof\": shape (24248,), type \"<i4\">), (u'ihhalo', <HDF5 dataset \"ihhalo\": shape (24248,), type \"<i4\">), (u'index', <HDF5 dataset \"index\": shape (24248,), type \"<i4\">), (u'is_central', <HDF5 dataset \"is_central\": shape (24248,), type \"<i4\">), (u'mburst', <HDF5 dataset \"mburst\": shape (24248,), type \"<f4\">), (u'mchalo', <HDF5 dataset \"mchalo\": shape (24248,), type \"<f4\">), (u'mcold', <HDF5 dataset \"mcold\": shape (24248,), type \"<f4\">), (u'mcold_atom', <HDF5 dataset \"mcold_atom\": shape (24248,), type \"<f4\">), (u'mcold_atom_bulge', <HDF5 dataset \"mcold_atom_bulge\": shape (24248,), type \"<f4\">), (u'mcold_burst', <HDF5 dataset \"mcold_burst\": shape (24248,), type \"<f4\">), (u'mcold_cooling', <HDF5 dataset \"mcold_cooling\": shape (24248,), type \"<f4\">), (u'mcold_major', <HDF5 dataset \"mcold_major\": shape (24248,), type \"<f4\">), (u'mcold_minor', <HDF5 dataset \"mcold_minor\": shape (24248,), type \"<f4\">), (u'mcold_mol', <HDF5 dataset \"mcold_mol\": shape (24248,), type \"<f4\">), (u'mcold_mol_bulge', <HDF5 dataset \"mcold_mol_bulge\": shape (24248,), type \"<f4\">), (u'mcold_recycle', <HDF5 dataset \"mcold_recycle\": shape (24248,), type \"<f4\">), (u'metals_burst', <HDF5 dataset \"metals_burst\": shape (24248,), type \"<f4\">), (u'mhalo', <HDF5 dataset \"mhalo\": shape (24248,), type \"<f4\">), (u'mhhalo', <HDF5 dataset \"mhhalo\": shape (24248,), type \"<f4\">), (u'mhot', <HDF5 dataset \"mhot\": shape (24248,), type \"<f4\">), (u'mstardot', <HDF5 dataset \"mstardot\": shape (24248,), type \"<f4\">), (u'mstardot_average', <HDF5 dataset \"mstardot_average\": shape (24248,), type \"<f4\">), (u'mstardot_burst', <HDF5 dataset \"mstardot_burst\": shape (24248,), type \"<f4\">), (u'mstars_allburst', <HDF5 dataset \"mstars_allburst\": shape (24248,), type \"<f4\">), (u'mstars_bulge', <HDF5 dataset \"mstars_bulge\": shape (24248,), type \"<f4\">), (u'mstars_burst', <HDF5 dataset \"mstars_burst\": shape (24248,), type \"<f4\">), (u'mstars_disk', <HDF5 dataset \"mstars_disk\": shape (24248,), type \"<f4\">), (u'mstars_instability', <HDF5 dataset \"mstars_instability\": shape (24248,), type \"<f4\">), (u'rbulge', <HDF5 dataset \"rbulge\": shape (24248,), type \"<f4\">), (u'rcomb', <HDF5 dataset \"rcomb\": shape (24248,), type \"<f4\">), (u'rdisk', <HDF5 dataset \"rdisk\": shape (24248,), type \"<f4\">), (u'redshift', <HDF5 dataset \"redshift\": shape (), type \"<f4\">), (u'spin', <HDF5 dataset \"spin\": shape (24248,), type \"<f4\">), (u'star_metal_bulge', <HDF5 dataset \"star_metal_bulge\": shape (24248,), type \"<f4\">), (u'star_metal_disk', <HDF5 dataset \"star_metal_disk\": shape (24248,), type \"<f4\">), (u'strc', <HDF5 dataset \"strc\": shape (24248,), type \"<f4\">), (u'tburst', <HDF5 dataset \"tburst\": shape (24248,), type \"<f4\">), (u'tsfburst', <HDF5 dataset \"tsfburst\": shape (24248,), type \"<f4\">), (u'tsink', <HDF5 dataset \"tsink\": shape (24248,), type \"<f4\">), (u'type', <HDF5 dataset \"type\": shape (24248,), type \"<i4\">), (u'vbulge', <HDF5 dataset \"vbulge\": shape (24248,), type \"<f4\">), (u'vchalo', <HDF5 dataset \"vchalo\": shape (24248,), type \"<f4\">), (u'vdisk', <HDF5 dataset \"vdisk\": shape (24248,), type \"<f4\">), (u'vhalo', <HDF5 dataset \"vhalo\": shape (24248,), type \"<f4\">), (u'vhhalo', <HDF5 dataset \"vhhalo\": shape (24248,), type \"<f4\">), (u'vxgal', <HDF5 dataset \"vxgal\": shape (24248,), type \"<f4\">), (u'vygal', <HDF5 dataset \"vygal\": shape (24248,), type \"<f4\">), (u'vzgal', <HDF5 dataset \"vzgal\": shape (24248,), type \"<f4\">), (u'xgal', <HDF5 dataset \"xgal\": shape (24248,), type \"<f4\">), (u'ygal', <HDF5 dataset \"ygal\": shape (24248,), type \"<f4\">), (u'zgal', <HDF5 dataset \"zgal\": shape (24248,), type \"<f4\">)]\n"
     ]
    }
   ],
   "source": [
    "from __future__ import print_function\n",
    "import numpy as np\n",
    "import h5py\n",
    "\n",
    "with h5py.File('Gonzalez15.VELOCIraptor/iz200/ivol10/galaxies.hdf5','r') as hf:\n",
    "    data = hf.get('Output001')\n",
    "    np_data = np.array(data)\n",
    "    print('Shape of the array Output001: \\n', np_data.shape)\n",
    "    print('List of items of the output: \\n',data.items())\n",
    "    times =hf.get(\"Output_Times\")\n",
    "    vdisk=np.array(data.get('vdisk'))\n",
    "    vhalo=np.array(data.get('vhalo'))\n",
    "\n",
    "    # Checking Vdisk data and Vhalo data\n",
    "    n_data1=vdisk.shape[0]# they are both the same number\n",
    "    n_data2=vhalo.shape[0]# check above\n",
    "    "
   ]
  },
  {
   "cell_type": "code",
   "execution_count": 25,
   "metadata": {
    "collapsed": false
   },
   "outputs": [
    {
     "data": {
      "text/plain": [
       "(37462,)"
      ]
     },
     "execution_count": 25,
     "metadata": {},
     "output_type": "execute_result"
    }
   ],
   "source": [
    "np.shape(vdisk_total)"
   ]
  }
 ],
 "metadata": {
  "kernelspec": {
   "display_name": "Python 2",
   "language": "python",
   "name": "python2"
  },
  "language_info": {
   "codemirror_mode": {
    "name": "ipython",
    "version": 2
   },
   "file_extension": ".py",
   "mimetype": "text/x-python",
   "name": "python",
   "nbconvert_exporter": "python",
   "pygments_lexer": "ipython2",
   "version": "2.7.11"
  }
 },
 "nbformat": 4,
 "nbformat_minor": 0
}
