{
 "cells": [
  {
   "cell_type": "code",
   "execution_count": 32,
   "metadata": {
    "collapsed": false
   },
   "outputs": [
    {
     "name": "stderr",
     "output_type": "stream",
     "text": [
      "/home/guido/anaconda2/lib/python2.7/site-packages/matplotlib/pyplot.py:516: RuntimeWarning: More than 20 figures have been opened. Figures created through the pyplot interface (`matplotlib.pyplot.figure`) are retained until explicitly closed and may consume too much memory. (To control this warning, see the rcParam `figure.max_open_warning`).\n",
      "  max_open_warning, RuntimeWarning)\n",
      "/home/guido/anaconda2/lib/python2.7/site-packages/ipykernel/__main__.py:184: VisibleDeprecationWarning: boolean index did not match indexed array along dimension 0; dimension is 37461 but corresponding boolean dimension is 37435\n"
     ]
    },
    {
     "name": "stdout",
     "output_type": "stream",
     "text": [
      "The vhalo goes from 26.17371 to 1733.57043\n",
      "The vdisk goes from 0.00000 to 2139.54321 \n",
      "\n",
      "The vhalo goes from 30.56330 to 1535.73596\n",
      "The vdisk goes from 0.00000 to 1686.59875 \n",
      "\n"
     ]
    },
    {
     "name": "stderr",
     "output_type": "stream",
     "text": [
      "/home/guido/anaconda2/lib/python2.7/site-packages/ipykernel/__main__.py:184: VisibleDeprecationWarning: boolean index did not match indexed array along dimension 0; dimension is 26956 but corresponding boolean dimension is 26935\n"
     ]
    },
    {
     "name": "stdout",
     "output_type": "stream",
     "text": [
      "The vhalo goes from 35.72682 to 1317.91235\n",
      "The vdisk goes from 0.00000 to 1688.33142 \n",
      "\n"
     ]
    },
    {
     "name": "stderr",
     "output_type": "stream",
     "text": [
      "/home/guido/anaconda2/lib/python2.7/site-packages/ipykernel/__main__.py:184: VisibleDeprecationWarning: boolean index did not match indexed array along dimension 0; dimension is 20289 but corresponding boolean dimension is 20276\n"
     ]
    },
    {
     "name": "stdout",
     "output_type": "stream",
     "text": [
      "The vhalo goes from 60.54671 to 1250.37305\n",
      "The vdisk goes from 0.00000 to 1673.48267 \n",
      "\n"
     ]
    },
    {
     "name": "stderr",
     "output_type": "stream",
     "text": [
      "/home/guido/anaconda2/lib/python2.7/site-packages/ipykernel/__main__.py:184: VisibleDeprecationWarning: boolean index did not match indexed array along dimension 0; dimension is 15277 but corresponding boolean dimension is 15269\n"
     ]
    },
    {
     "name": "stdout",
     "output_type": "stream",
     "text": [
      "The vhalo goes from 60.54671 to 1250.37305\n",
      "The vdisk goes from 0.00000 to 1800.02258 \n",
      "\n"
     ]
    },
    {
     "name": "stderr",
     "output_type": "stream",
     "text": [
      "/home/guido/anaconda2/lib/python2.7/site-packages/ipykernel/__main__.py:184: VisibleDeprecationWarning: boolean index did not match indexed array along dimension 0; dimension is 11820 but corresponding boolean dimension is 11814\n"
     ]
    },
    {
     "name": "stdout",
     "output_type": "stream",
     "text": [
      "The vhalo goes from 99.90482 to 1126.79163\n",
      "The vdisk goes from 0.00000 to 1842.33911 \n",
      "\n"
     ]
    },
    {
     "name": "stderr",
     "output_type": "stream",
     "text": [
      "/home/guido/anaconda2/lib/python2.7/site-packages/ipykernel/__main__.py:184: VisibleDeprecationWarning: boolean index did not match indexed array along dimension 0; dimension is 6434 but corresponding boolean dimension is 6433\n"
     ]
    },
    {
     "name": "stdout",
     "output_type": "stream",
     "text": [
      "The vhalo goes from 102.45412 to 746.99109\n",
      "The vdisk goes from 0.00000 to 1689.56189 \n",
      "\n",
      "The vhalo goes from 141.57266 to 594.52161\n",
      "The vdisk goes from 0.00000 to 754.19220 \n",
      "\n"
     ]
    }
   ],
   "source": [
    "from __future__ import print_function\n",
    "import numpy as np\n",
    "import h5py\n",
    "import matplotlib.pyplot as plt\n",
    "import matplotlib\n",
    "matplotlib.use('Agg')\n",
    "\n",
    "\n",
    "#redshift list\n",
    "redshifts=['iz200','iz174','iz156','iz142','iz131','iz113','iz99','iz78']\n",
    "#volume list\n",
    "ivols=['ivol0','ivol10']\n",
    "nvols=len(ivols)\n",
    "#directory name \n",
    "direc='./Gonzalez15.VELOCIraptor/'\n",
    "\n",
    "# set font properties\n",
    "params = {      'axes.labelsize': 14,\n",
    "                        'axes.labelweight': 'normal',\n",
    "                        'axes.titlesize':  16, # Plot Title size\n",
    "                        'font.size':   14,\n",
    "                        'legend.fontsize': 14,\n",
    "                        'xtick.labelsize': 14, # Ticklabels\n",
    "                        'ytick.labelsize': 14,\n",
    "                        'font.family' : 'sans-serif',\n",
    "                        'text.usetex': True} # True for Latex font\n",
    "                  \n",
    "plt.rcParams.update(params)\n",
    "\n",
    "\n",
    "#some parameters\n",
    "volume_tree=144703.125 #(Mpc/h)^3\n",
    "box_size= 210.0 # Mpc/h    \n",
    "dm_mass = 5.97e9 # Msun/h\n",
    "halo_mass_min=100*dm_mass\n",
    "\n",
    "\n",
    "\n",
    "for i in range(0,len(redshifts)):\n",
    "        #Setting collecting arrays\n",
    "        mcold_t\t\t  =np.empty(1)\n",
    "        mcold_atom_t      =np.empty(1)\n",
    "        mcold_atom_bulge_t=np.empty(1)\n",
    "        mcold_burst_t     =np.empty(1)\n",
    "        mcold_cooling_t   =np.empty(1)\n",
    "        mcold_major_t     =np.empty(1)\n",
    "        mcold_minor_t     =np.empty(1)\n",
    "        mcold_mol_t       =np.empty(1)\n",
    "        mstars_bulge_t    =np.empty(1)\n",
    "        mcold_mol_bulge_t =np.empty(1)\n",
    "        mcold_recycle_t   =np.empty(1)\n",
    "        mhalo_t           =np.empty(1)\n",
    "        mhhalo_t          =np.empty(1)\n",
    "        mhot_t            =np.empty(1)\n",
    "        mstars_allburst_t =np.empty(1)\n",
    "        mstars_bulge_t    =np.empty(1)\n",
    "        mstars_burst_t    =np.empty(1)\n",
    "        mstars_disk_t     =np.empty(1)\n",
    "        vdisk_t           =np.empty(1)\n",
    "        vhalo_t           =np.empty(1)\n",
    "        \n",
    "        title=r'Mcold histogram Mini-Surfs-Velociraptor for stellar mass fraction>0.5, '+redshifts[i]\n",
    "        for j in range(0,len(ivols)):\n",
    "        # set figure\n",
    "            fileformat = 'png'\n",
    "            dpi = 300\n",
    "            fig,axs = plt.subplots()\n",
    "            direc=direc+redshifts[i]+'/'+ivols[j]+'/galaxies.hdf5'\n",
    "            ##Reading the data from hdf5 file ####\n",
    "            with h5py.File(direc,'r') as hf:\n",
    "                data = hf.get('Output001')\n",
    "                times =hf.get(\"Output_Times\")\n",
    "                mcold           =np.array(data.get('mcold')) # Mass of cold gas in the disk of the galaxy             \n",
    "                mcold_atom      =np.array(data.get('mcold_atom')) #Mass of H gas mass in the disk of the galaxy\n",
    "                mcold_atom_bulge=np.array(data.get('mcold_atom_bulge'))# Mass of H gas in the bulge of the galaxy\n",
    "                mcold_burst     =np.array(data.get('mcold_burst'))#Mass of cold gas remaining in ongoing bursts (Msolar/h)\n",
    "                mcold_cooling   =np.array(data.get('mcold_cooling'))#Cold gas Mass in the galaxy that comes from cooling\n",
    "                mcold_major     =np.array(data.get('mcold_major'))#Cold gas Mass in the galaxy that comes from major mergers (Msolar/h)\n",
    "                mcold_minor     =np.array(data.get('mcold_minor'))# Cold gas Mass in the galaxy that comes from minor mergers (Msolar/h).\n",
    "                mcold_mol       =np.array(data.get('mcold_mol'))#Mass of molecularhydrogen gas mass in the disk of the galaxy (Msolar/h)\n",
    "                mstars_bulge    =np.array(data.get('mstars_bulge'))#Mass of stars in the bulge (Msolar/h)\n",
    "                mcold_mol_bulge =np.array(data.get('mcold_mol_bulge'))#Mass of molecular hydrogen gas mass in the bulge of the galaxy (Msolar/h)\n",
    "                mcold_recycle   =np.array(data.get('mcold_recycle'))# Cold gas Mass in the galaxy that comes from recycling of old stars (Msolar/h).\n",
    "                mhalo           =np.array(data.get('mhalo'))#Mass of the halo in which the galaxy formed\n",
    "                mhhalo          =np.array(data.get('mhhalo'))#Mass of the host halo at this output time (Msolar/h)\n",
    "                mhot            =np.array(data.get('mhot'))#Mass of hot gas in the halo (Msolar/h)\n",
    "                mstars_allburst =np.array(data.get('mstars_allburst'))#Stellar mass in all bursts (Msolar/h)\n",
    "                mstars_burst    =np.array(data.get('mstars_burst'))#Stellar mass in ongoing bursts (Msolar/h)\n",
    "                mstars_disk     =np.array(data.get('mstars_disk'))#Mass of stars in the disk (Msolar/h)\n",
    "                vdisk           =np.array(data.get('vdisk'))\n",
    "                vhalo           =np.array(data.get('vhalo')) \n",
    "\n",
    "                # collecting the data of all the volumes\n",
    "                mcold_t           =np.append(mcold_t,mcold)\n",
    "                mcold_atom_t      =np.append(mcold_atom_t,mcold_atom_t)\n",
    "                mcold_atom_bulge_t=np.append(mcold_atom_bulge_t,mcold_atom_bulge)\n",
    "                mcold_burst_t     =np.append(mcold_burst_t,mcold_burst)\n",
    "                mcold_cooling_t   =np.append(mcold_cooling_t,mcold_cooling)\n",
    "                mcold_major_t     =np.append(mcold_major_t,mcold_major)\n",
    "                mcold_minor_t     =np.append(mcold_minor_t,mcold_minor)\n",
    "                mcold_mol_t       =np.append(mcold_mol_t,mcold_mol)\n",
    "                mstars_bulge_t    =np.append(mstars_bulge_t,mstars_bulge)\n",
    "                mcold_mol_bulge_t =np.append(mcold_mol_bulge_t,mcold_mol_bulge)\n",
    "                mcold_recycle_t   =np.append(mcold_recycle_t,mcold_recycle_t)\n",
    "                mhalo_t           =np.append(mhalo_t,mhalo)\n",
    "                mhhalo_t          =np.append(mhhalo_t,mhhalo)\n",
    "                mhot_t            =np.append(mhot_t,mhot)\n",
    "                mstars_allburst_t =np.append(mstars_allburst_t,mstars_allburst)\n",
    "                mstars_burst_t    =np.append(mstars_burst_t,mstars_burst)\n",
    "                mstars_disk_t     =np.append(mstars_disk_t,mstars_disk)\n",
    "                vdisk_t           =np.append(vdisk_t,vdisk)\n",
    "                vhalo_t           =np.append(vhalo_t,vhalo) \n",
    "            direc='./Gonzalez15.VELOCIraptor/'\n",
    "\n",
    "\n",
    "\n",
    "        mstars_bulge_t=mstars_bulge_t[1:]\n",
    "        mstars_disk_t =mstars_disk_t[1:]\n",
    "        mstars_total  =mstars_bulge_t+mstars_disk_t\n",
    "        id0=(mstars_total>0)\n",
    "        fbulge=mstars_bulge_t[id0]/mstars_total[id0]\n",
    "\n",
    "\n",
    "#        total_mcold   =(mcold_t+mcold_atom_bulge+mcold_cooling+mcold_major+mcold_minor+mcold_mol_bulge+mcold_recycle)[1:]\n",
    "#        total_mass    =total_mcold+mhot[1:]\n",
    "#        fraction      =total_mcold/total_mass\n",
    "        \n",
    "\n",
    "#        mcold_t           =\n",
    "#        mcold_atom_t      =\n",
    "#        mcold_atom_bulge_t=\n",
    "#        mcold_burst_t     =\n",
    "#        mcold_cooling_t   =\n",
    "#        mcold_major_t     =\n",
    "#        mcold_minor_t     =\n",
    "#        mcold_mol_t       =\n",
    "#        mstars_bulge_t    =\n",
    "#        mcold_mol_bulge_t =\n",
    "#        mcold_recycle_t   =\n",
    "#        mhalo_t           =\n",
    "#        mhhalo_t          =\n",
    "#        mhot_t            =\n",
    "#        mstars_allburst_t =\n",
    "#        mstars_bulge_t    =\n",
    "#        mstars_burst_t    =\n",
    "#        mstars_disk_t     =\n",
    "#        vdisk_t           =\n",
    "#        vhalo_t           =\n",
    "#        mcold_atom_bulge_t=mcold_atom_bulge_t[1:]\n",
    "#        mcold_mol_bulge_t =mcold_mol_bulge_t[1:]\n",
    "#        mstars_bulge_t    =mstars_bulge_t[1:]\n",
    "#        mstars_disk_t     =mstars_disk_t[1:]\n",
    "#        mchalo_t          =mchalo_t[1:]\n",
    "#        mhalo_t           =mhalo_t[1:]\n",
    "#        mhhalo_t          =mhhalo_t[1:]\n",
    "        vhalo_t           =vhalo_t[1:]\n",
    "        vdisk_t           =vdisk_t[1:]\n",
    "#        mbulge_t=mcold_atom_bulge_t+mcold_mol_bulge_t+mstars_bulge_t\n",
    "#        mtotal  =mbulge_t+mstars_disk_t+mchalo_t+mhalo_t+mhhalo_t\n",
    "       # ranges\n",
    "        vhalo_t_min=np.amin(vhalo_t)\n",
    "        vhalo_t_max=np.amax(vhalo_t)\n",
    "        vdisk_t_min=np.amin(vdisk_t)\n",
    "        vdisk_t_max=np.amax(vdisk_t)\n",
    "        \n",
    "        print(u'The vhalo goes from %3.5f to %3.5f' %(vhalo_t_min,vhalo_t_max))\n",
    "        print(u'The vdisk goes from %3.5f to %3.5f \\n' %(vdisk_t_min,vdisk_t_max))\n",
    " # finding range of values\n",
    "        n_data1=np.shape(vdisk_t)[0]\n",
    "\n",
    "        n_histogram=int(round(np.sqrt(n_data1)))#/4.0\n",
    "        left=vdisk_t_min\n",
    "        right=vdisk_t_max\n",
    "        idx=(fbulge>=0.5)\n",
    "        \n",
    "        dist_bin   =(right-left)/(n_histogram+1)\n",
    "        l_edge     =left-dist_bin/2.0\n",
    "        r_edge     =right+dist_bin/2.0\n",
    "        bin_edges  =np.arange(l_edge,r_edge+dist_bin,dist_bin)\n",
    "        bin_centers=bin_edges+dist_bin\n",
    "        bin_centers=bin_centers[1:]\n",
    "        binwidths  =np.diff(bin_edges)\n",
    "\t################# histogram Vdisk############################3\n",
    "        hist1, bin_edges1= np.histogram(vdisk_t[idx], bin_edges)\n",
    "        hist2, bin_edges2= np.histogram(vdisk_t, bin_edges)\n",
    "        idx1=(hist1>0) \n",
    "        idx2=(hist2>0)\n",
    "\n",
    "        #idx2=(hist1[idx] >0) \n",
    "\t# over the volume\n",
    "        hist1=hist1/(volume_tree*nvols)\n",
    "        hist2=hist2/(volume_tree*nvols)\n",
    "\n",
    "\t#error1=np.sqrt(hist1)/volume_tree\n",
    "\t# correct for log(vmax)\n",
    "        hist1=hist1/np.diff(bin_edges)\n",
    "        hist2=hist2/np.diff(bin_edges)\n",
    "\n",
    "        axs.plot(bin_centers[idx1],hist1[idx1], label=r'$Mcold molecular >10^{7} $', marker='.', linestyle='-', markersize=4, c='r')\t\t  \n",
    "        axs.plot(bin_centers[idx2],hist2[idx2], label=r'Mcold molecular all ', marker='.', linestyle='-', markersize=4, c='k')\n",
    "        handles, labels = axs.get_legend_handles_labels()\n",
    "        axs.legend(handles, labels, numpoints=1, loc='upper right') #, prop={'size': 'x-small'})\n",
    "        #axs.set_ylim(1E-1,1E1)\n",
    "        axs.set_xscale('log')\n",
    "        axs.set_yscale('log')\n",
    "        axs.set_xlabel(r'$V_{disk}[Km/s]$)')\n",
    "        axs.set_ylabel(r'$dn/d V_{disk} [h^{3}Mpc^{-3}skm^{-1}]$')\n",
    "        axs.set_title(title)\n",
    "        plt.savefig(title+'.png',dpi=dpi,format=fileformat)\n",
    "        \n",
    "\n"
   ]
  },
  {
   "cell_type": "code",
   "execution_count": 33,
   "metadata": {
    "collapsed": false
   },
   "outputs": [
    {
     "data": {
      "text/plain": [
       "array([False, False,  True,  True,  True,  True,  True,  True, False,\n",
       "        True, False,  True,  True,  True, False,  True, False, False,\n",
       "        True,  True, False,  True,  True, False,  True,  True,  True,\n",
       "       False, False,  True,  True,  True,  True,  True,  True,  True,\n",
       "       False,  True,  True,  True,  True,  True,  True,  True, False,\n",
       "        True,  True, False,  True, False, False,  True,  True,  True,\n",
       "        True, False,  True,  True,  True,  True,  True,  True, False,\n",
       "        True,  True, False, False,  True, False, False, False,  True,\n",
       "       False, False,  True,  True,  True,  True,  True,  True, False,\n",
       "       False,  True, False,  True,  True,  True,  True,  True,  True,\n",
       "        True, False, False,  True,  True, False, False,  True,  True,\n",
       "        True,  True, False, False, False,  True, False,  True,  True,\n",
       "       False,  True, False,  True,  True, False,  True,  True, False,\n",
       "       False,  True,  True, False,  True,  True,  True,  True, False,\n",
       "       False, False,  True,  True,  True,  True,  True,  True,  True,\n",
       "        True,  True,  True,  True, False,  True,  True, False, False,\n",
       "        True, False,  True,  True,  True,  True,  True, False,  True,\n",
       "        True, False,  True,  True,  True, False,  True,  True, False,\n",
       "       False,  True, False,  True,  True, False,  True,  True,  True,\n",
       "       False, False,  True,  True,  True,  True, False,  True,  True,\n",
       "        True,  True, False,  True, False, False,  True,  True, False,\n",
       "        True,  True,  True,  True,  True, False,  True,  True, False,\n",
       "        True,  True,  True, False,  True,  True,  True, False,  True,\n",
       "        True,  True,  True,  True,  True, False,  True, False, False,\n",
       "       False,  True, False,  True,  True,  True,  True,  True,  True,\n",
       "        True, False,  True,  True,  True,  True,  True,  True,  True,\n",
       "       False,  True,  True, False,  True, False,  True,  True, False,\n",
       "       False, False, False,  True,  True, False,  True,  True,  True,\n",
       "        True, False, False, False, False, False,  True, False, False,\n",
       "        True, False, False, False,  True, False,  True,  True,  True,\n",
       "       False,  True, False,  True, False,  True,  True,  True,  True,\n",
       "       False,  True, False, False, False, False,  True,  True,  True,\n",
       "        True,  True, False, False,  True, False, False,  True, False,\n",
       "        True, False,  True, False, False, False,  True,  True, False,\n",
       "        True,  True, False,  True,  True,  True, False,  True,  True,\n",
       "        True,  True,  True,  True,  True, False,  True,  True,  True,\n",
       "        True,  True,  True,  True, False, False], dtype=bool)"
      ]
     },
     "execution_count": 33,
     "metadata": {},
     "output_type": "execute_result"
    }
   ],
   "source": [
    "idx"
   ]
  },
  {
   "cell_type": "code",
   "execution_count": 34,
   "metadata": {
    "collapsed": false
   },
   "outputs": [
    {
     "data": {
      "text/plain": [
       "(330,)"
      ]
     },
     "execution_count": 34,
     "metadata": {},
     "output_type": "execute_result"
    }
   ],
   "source": [
    "np.shape(idx)"
   ]
  },
  {
   "cell_type": "code",
   "execution_count": 6,
   "metadata": {
    "collapsed": false
   },
   "outputs": [
    {
     "data": {
      "text/plain": [
       "74922"
      ]
     },
     "execution_count": 6,
     "metadata": {},
     "output_type": "execute_result"
    }
   ],
   "source": [
    "37461*2\n"
   ]
  },
  {
   "cell_type": "code",
   "execution_count": 7,
   "metadata": {
    "collapsed": false
   },
   "outputs": [
    {
     "data": {
      "text/plain": [
       "0"
      ]
     },
     "execution_count": 7,
     "metadata": {},
     "output_type": "execute_result"
    }
   ],
   "source": [
    "i"
   ]
  },
  {
   "cell_type": "code",
   "execution_count": 14,
   "metadata": {
    "collapsed": false
   },
   "outputs": [
    {
     "data": {
      "text/plain": [
       "0.0"
      ]
     },
     "execution_count": 14,
     "metadata": {},
     "output_type": "execute_result"
    }
   ],
   "source": [
    "mstars_bulge_t[37460]"
   ]
  },
  {
   "cell_type": "code",
   "execution_count": 21,
   "metadata": {
    "collapsed": false
   },
   "outputs": [
    {
     "data": {
      "text/plain": [
       "(37462,)"
      ]
     },
     "execution_count": 21,
     "metadata": {},
     "output_type": "execute_result"
    }
   ],
   "source": [
    "np.shape(mcold_mol_t)"
   ]
  },
  {
   "cell_type": "code",
   "execution_count": null,
   "metadata": {
    "collapsed": true
   },
   "outputs": [],
   "source": []
  }
 ],
 "metadata": {
  "kernelspec": {
   "display_name": "Python 2",
   "language": "python",
   "name": "python2"
  },
  "language_info": {
   "codemirror_mode": {
    "name": "ipython",
    "version": 2
   },
   "file_extension": ".py",
   "mimetype": "text/x-python",
   "name": "python",
   "nbconvert_exporter": "python",
   "pygments_lexer": "ipython2",
   "version": "2.7.11"
  }
 },
 "nbformat": 4,
 "nbformat_minor": 0
}
